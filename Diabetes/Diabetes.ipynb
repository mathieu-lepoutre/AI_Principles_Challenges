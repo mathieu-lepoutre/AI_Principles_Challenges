{
 "cells": [
  {
   "cell_type": "markdown",
   "execution_count": null,
   "metadata": {},
   "outputs": [],
   "source": [
    "# Predicting Diabetes Readmission\n",
    "\n",
    "Author: ...\n",
    "\n",
    "## Introduction\n",
    "\n",
    "The goal of this data analysis report is to predict whether and how soon a diabetes patient would be readmitted to the hospital based on demographics as well as visit and medication details."
   ]
  },
  {
   "cell_type": "code",
   "execution_count": 3,
   "metadata": {},
   "outputs": [],
   "source": [
    "import pandas as pd\n",
    "import numpy as np\n",
    "import pylab as pl\n",
    "import matplotlib.pyplot as plt"
   ]
  },
  {
   "cell_type": "markdown",
   "execution_count": null,
   "metadata": {},
   "outputs": [],
   "source": [
    "## Data\n",
    "\n",
    "The data resides in the file `diabetes.tab` (MD5 after cleaning: `80521F2659B0CF928EB7C2F325B8D95B`) in the `dat` subfolder and was originally collected from the [UCI repository](https://archive.ics.uci.edu/ml/datasets/diabetes+130-us+hospitals+for+years+1999-2008) and then adjusted as follows:\n",
    "\n",
    "1. Select and rename features (see `collect.r` for details)\n",
    "2. Forcing the features `Source` and `Diagnosis` to be read as categorical instead of numerical variables\n",
    "3. Converting values `?`, `Unknown/Invalid`, … to empty values (see `collect.r` for details)\n",
    "4. Convert separator comma's to tabs"
   ]
  },
  {
   "cell_type": "markdown",
   "execution_count": null,
   "metadata": {},
   "outputs": [],
   "source": [
    "## Loading the Data\n",
    "\n",
    "The retained data set is split into 2 parts, one for training (&frac23;) and one for testing (&frac13;). The seed was set to 42 to allow for reproduction of this work."
   ]
  },
  {
   "cell_type": "code",
   "execution_count": 4,
   "metadata": {},
   "outputs": [],
   "source": [
    "data_df = pd.read_csv(\"dat/diabetes.tab\", sep=\"\\t\")"
   ]
  },
  {
   "cell_type": "markdown",
   "execution_count": null,
   "metadata": {},
   "outputs": [],
   "source": [
    "## Creating Dummy Variables\n",
    "\n",
    "Although Decision trees inheritly support mixed data types, Python SKLearn does not. To work around this, we will convert the categorical features in our data set into corresponding dummy variables: "
   ]
  },
  {
   "cell_type": "code",
   "execution_count": 5,
   "metadata": {},
   "outputs": [],
   "source": [
    "data_df = pd.get_dummies (data_df, columns=[\"Race\", \"Gender\", \"Age\", \"Source\", \"Diagnosis\",\n",
    "        \"Diagnosis_Count\", \"HbA1C\", \"Metformin\", \"Repaglinide\", \"Nateglinide\", \"Chlorpropamide\",\n",
    "        \"Glimepiride\", \"Acetohexamide\", \"Glipizide\", \"Glyburide\", \"Tolbutamide\", \"Pioglitazone\",\n",
    "        \"Rosiglitazone\", \"Acarbose\", \"Miglitol\", \"Troglitazone\", \"Tolazamide\", \"Examide\",\n",
    "        \"Citoglipton\", \"Insulin\", \"Glyburide_metformin\", \"Glipizide_metformin\",\n",
    "        \"Glimepiride_pioglitazone\", \"Metformin_rosiglitazone\", \"Metformin_pioglitazone\"])\n",
    "\n",
    "feat = data_df[set(data_df.columns.values).difference({\"Readmission\"})]\n",
    "outc = data_df.Readmission"
   ]
  },
  {
   "cell_type": "markdown",
   "execution_count": null,
   "metadata": {},
   "outputs": [],
   "source": [
    "## Splitting the Data\n",
    "\n",
    "The data will be split into a training set (1/3), a validation set (1/3) and a testing set (1/3)"
   ]
  },
  {
   "cell_type": "code",
   "execution_count": 9,
   "metadata": {},
   "outputs": [
    {
     "ename": "NameError",
     "evalue": "name 'train_test_split' is not defined",
     "output_type": "error",
     "traceback": [
      "\u001b[1;31m---------------------------------------------------------------------------\u001b[0m",
      "\u001b[1;31mNameError\u001b[0m                                 Traceback (most recent call last)",
      "\u001b[1;32m<ipython-input-9-644f3a6341f0>\u001b[0m in \u001b[0;36m<module>\u001b[1;34m\u001b[0m\n\u001b[1;32m----> 1\u001b[1;33m feat_trai_vali, feat_test, outc_trai_vali, outc_test = train_test_split(\n\u001b[0m\u001b[0;32m      2\u001b[0m     feat, outc, test_size=0.33, random_state=42)\n\u001b[0;32m      3\u001b[0m feat_trai, feat_vali, outc_trai, outc_vali = train_test_split(\n\u001b[0;32m      4\u001b[0m     feat_trai_vali, outc_trai_vali, test_size=0.50, random_state=42)\n",
      "\u001b[1;31mNameError\u001b[0m: name 'train_test_split' is not defined"
     ]
    }
   ],
   "source": [
    "feat_trai_vali, feat_test, outc_trai_vali, outc_test = train_test_split(\n",
    "    feat, outc, test_size=0.33, random_state=42)\n",
    "feat_trai, feat_vali, outc_trai, outc_vali = train_test_split(\n",
    "    feat_trai_vali, outc_trai_vali, test_size=0.50, random_state=42)"
   ]
  },
  {
   "cell_type": "markdown",
   "execution_count": null,
   "metadata": {},
   "outputs": [],
   "source": [
    "## Feature Contribution"
   ]
  },
  {
   "cell_type": "markdown",
   "execution_count": null,
   "metadata": {},
   "outputs": [],
   "source": [
    "## Hyperparameters\n",
    "\n"
   ]
  },
  {
   "cell_type": "markdown",
   "execution_count": null,
   "metadata": {},
   "outputs": [],
   "source": [
    "## Best Model"
   ]
  },
  {
   "cell_type": "markdown",
   "execution_count": null,
   "metadata": {},
   "outputs": [],
   "source": [
    "## Prediction"
   ]
  },
  {
   "cell_type": "code",
   "execution_count": null,
   "metadata": {},
   "outputs": [],
   "source": [
    "outc_pred = learner.predict(feat_test)\n",
    "outc_pred_prob = learner.predict_proba(feat_test)[:, 1]\n",
    "\n",
    "list(zip(outc_pred, outc_test))"
   ]
  },
  {
   "cell_type": "markdown",
   "execution_count": null,
   "metadata": {},
   "outputs": [],
   "source": [
    "## Performance\n",
    "\n",
    "The ROC curve below demonstrates the classification success independent of a threshold."
   ]
  },
  {
   "cell_type": "code",
   "execution_count": null,
   "metadata": {},
   "outputs": [],
   "source": [
    "f\"Performance of the decision tree classifier {learner.score(feat_test, outc_test):.2%} (by chance = 33.33%)\""
   ]
  },
  {
   "cell_type": "markdown",
   "execution_count": null,
   "metadata": {},
   "outputs": [],
   "source": [
    "## Conclusion"
   ]
  }
 ],
 "metadata": {
  "file_extension": ".py",
  "kernelspec": {
   "display_name": "Python 3",
   "language": "python",
   "name": "python3"
  },
  "language_info": {
   "codemirror_mode": {
    "name": "ipython",
    "version": 3
   },
   "file_extension": ".py",
   "mimetype": "text/x-python",
   "name": "python",
   "nbconvert_exporter": "python",
   "pygments_lexer": "ipython3",
   "version": "3.8.1-final"
  },
  "mimetype": "text/x-python",
  "name": "python",
  "npconvert_exporter": "python",
  "pygments_lexer": "ipython3",
  "version": 3
 },
 "nbformat": 4,
 "nbformat_minor": 2
}